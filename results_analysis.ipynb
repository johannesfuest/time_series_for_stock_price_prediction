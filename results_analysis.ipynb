{
 "cells": [
  {
   "cell_type": "code",
   "execution_count": 53,
   "metadata": {},
   "outputs": [],
   "source": [
    "import matplotlib.pyplot as plt\n",
    "import numpy as np\n",
    "import os\n",
    "import pandas as pd"
   ]
  },
  {
   "cell_type": "markdown",
   "metadata": {},
   "source": [
    "### Basic weak-form test results"
   ]
  },
  {
   "cell_type": "code",
   "execution_count": 60,
   "metadata": {},
   "outputs": [
    {
     "name": "stdout",
     "output_type": "stream",
     "text": [
      "1341 out of 3273 stock time series are weak-form efficient according to the autocorrelation test.\n",
      "2172 out of 3273 stock time series are weak form efficient according to the runs test.\n",
      "2555 out of 3273 stock time series are weak-form efficient according to the unit root test.\n",
      "451 out of 3273 stock time series are weak-form efficient according to the variance ratio test.\n"
     ]
    }
   ],
   "source": [
    "df_autocorr_test = pd.read_csv('data/results/autocorr_test.csv', sep='|')\n",
    "print(f'{len(df_autocorr_test) - sum(df_autocorr_test[\"autocorrelation\"])} out of {len(df_autocorr_test)} stock time series are weak-form efficient according to the autocorrelation test.')\n",
    "df_runs_test = pd.read_csv('data/results/runs_test.csv', sep='|')\n",
    "print(f'{sum(df_runs_test[\"random\"])} out of {len(df_runs_test)} stock time series are weak form efficient according to the runs test.')\n",
    "df_unit_root_test = pd.read_csv('data/results/unit_root_test.csv')\n",
    "print(f'{len(df_unit_root_test.query('price_unit_root == True'))} out of {len(df_unit_root_test)} stock time series are weak-form efficient according to the unit root test.')\n",
    "df_var_ratio_test = pd.read_csv('data/results/var_ratio_test.csv')\n",
    "print(f'{df_var_ratio_test['data_from_random_walk'].sum()} out of {len(df_var_ratio_test)} stock time series are weak-form efficient according to the variance ratio test.')"
   ]
  },
  {
   "cell_type": "markdown",
   "metadata": {},
   "source": [
    "### Predictions results"
   ]
  },
  {
   "cell_type": "code",
   "execution_count": 55,
   "metadata": {},
   "outputs": [
    {
     "name": "stdout",
     "output_type": "stream",
     "text": [
      "Number of Predictions: 100\n",
      "of which 65 are from significant models\n",
      "Average Sign Change Accuracy: 45.79%\n",
      "Average R^2: 0.48\n",
      "Average Correlation: 0.66\n",
      "Average Sign Change Accuracy (Only Significant): 45.18%\n",
      "Average R^2 (Only Significant): 0.46\n",
      "Average Correlation (Only Significant): 0.64\n"
     ]
    }
   ],
   "source": [
    "def calculate_sign_change_accuracy(actual, predicted):\n",
    "    \"\"\"\n",
    "    Returns the % of correctly predicted sign changes in consecutive Time Series Values\n",
    "    \"\"\"\n",
    "    #check to ensure lists are large enough and of equal length\n",
    "    if len(actual) != len(predicted) or len(actual) < 2:\n",
    "        raise ValueError(\"Both lists must have the same length and at least two elements.\")\n",
    "\n",
    "    # Calculate the differences between consecutive elements\n",
    "    actual_diffs = [j - i for i, j in zip(actual[:-1], actual[1:])]\n",
    "    predicted_diffs = [j - i for i, j in zip(predicted[:-1], predicted[1:])]\n",
    "\n",
    "    #compute % of correctly predicted sign change\n",
    "    match_sign_count = 0\n",
    "    for pred_diff, actual_diff in zip(predicted_diffs,actual_diffs):\n",
    "        if (pred_diff<0 and actual_diff<0) or (pred_diff>0 and actual_diff>0):\n",
    "            match_sign_count+=1\n",
    "\n",
    "    match_sign_ratio = match_sign_count/len(predicted_diffs)\n",
    "    return match_sign_ratio*100\n",
    "sign_accuracies = []\n",
    "sign_accuracies_only_significant = []\n",
    "r2s = []\n",
    "r2s_only_significant = []\n",
    "corrs = []\n",
    "corrs_only_significant = []\n",
    "df_sample = pd.read_csv('data/results/sample_100.csv', sep='|')\n",
    "for file in os.listdir('data/predictions/'):\n",
    "    if file.endswith('.csv'):\n",
    "        df = pd.read_csv(f'data/predictions/{file}', sep='|')\n",
    "        filename = file.split('_')[1] + '.csv'\n",
    "        df_temp = df_sample.query('file == @filename')\n",
    "        accuracy = calculate_sign_change_accuracy(df[\"actual\"], df[\"pred\"])\n",
    "        sign_accuracies.append(accuracy)\n",
    "        # calculate r^2 of predicted vs actual\n",
    "        r2 = np.corrcoef(df[\"actual\"], df[\"pred\"])[0, 1]**2\n",
    "        r2s.append(r2)\n",
    "        corr = np.corrcoef(df[\"actual\"], df[\"pred\"])[0, 1]\n",
    "        corrs.append(corr)\n",
    "        if df_temp.iloc[0,4]:\n",
    "            sign_accuracies_only_significant.append(accuracy)\n",
    "            r2s_only_significant.append(r2)\n",
    "            corrs_only_significant.append(corr)\n",
    "            \n",
    "print(f'Number of Predictions: {len(sign_accuracies)}')\n",
    "print(f'of which {len(sign_accuracies_only_significant)} are from significant models')\n",
    "\n",
    "print(f'Average Sign Change Accuracy: {np.mean(sign_accuracies):.2f}%')\n",
    "print(f'Average R^2: {np.mean(r2s):.2f}')\n",
    "print(f'Average Correlation: {np.mean(corrs):.2f}')\n",
    "print(f'Average Sign Change Accuracy (Only Significant): {np.mean(sign_accuracies_only_significant):.2f}%')\n",
    "print(f'Average R^2 (Only Significant): {np.mean(r2s_only_significant):.2f}')\n",
    "print(f'Average Correlation (Only Significant): {np.mean(corrs_only_significant):.2f}')"
   ]
  },
  {
   "cell_type": "code",
   "execution_count": 56,
   "metadata": {},
   "outputs": [
    {
     "name": "stdout",
     "output_type": "stream",
     "text": [
      "[42.10526315789473, 36.84210526315789, 42.10526315789473, 47.368421052631575, 42.10526315789473, 52.63157894736842, 42.10526315789473, 52.63157894736842, 42.10526315789473, 36.84210526315789, 47.368421052631575, 21.052631578947366, 36.84210526315789, 47.368421052631575, 52.63157894736842, 21.052631578947366, 57.89473684210527, 31.57894736842105, 36.84210526315789, 52.63157894736842, 63.1578947368421, 42.10526315789473, 52.63157894736842, 52.63157894736842, 52.63157894736842, 52.63157894736842, 57.89473684210527, 42.10526315789473, 57.89473684210527, 42.10526315789473, 52.63157894736842, 52.63157894736842, 52.63157894736842, 42.10526315789473, 36.84210526315789, 42.10526315789473, 31.57894736842105, 63.1578947368421, 36.84210526315789, 63.1578947368421, 47.368421052631575, 42.10526315789473, 42.10526315789473, 47.368421052631575, 57.89473684210527, 15.789473684210526, 47.368421052631575, 26.31578947368421, 47.368421052631575, 36.84210526315789, 36.84210526315789, 52.63157894736842, 47.368421052631575, 47.368421052631575, 52.63157894736842, 57.89473684210527, 63.1578947368421, 47.368421052631575, 47.368421052631575, 63.1578947368421, 36.84210526315789, 63.1578947368421, 42.10526315789473, 36.84210526315789, 26.31578947368421, 47.368421052631575, 47.368421052631575, 42.10526315789473, 63.1578947368421, 36.84210526315789, 52.63157894736842, 52.63157894736842, 52.63157894736842, 57.89473684210527, 26.31578947368421, 42.10526315789473, 31.57894736842105, 52.63157894736842, 36.84210526315789, 47.368421052631575, 36.84210526315789, 15.789473684210526, 47.368421052631575, 42.10526315789473, 52.63157894736842, 57.89473684210527, 42.10526315789473, 57.89473684210527, 47.368421052631575, 57.89473684210527, 47.368421052631575, 57.89473684210527, 31.57894736842105, 42.10526315789473, 42.10526315789473, 68.42105263157895, 47.368421052631575, 57.89473684210527, 31.57894736842105, 42.10526315789473]\n"
     ]
    }
   ],
   "source": [
    "print(sign_accuracies)"
   ]
  },
  {
   "cell_type": "code",
   "execution_count": null,
   "metadata": {},
   "outputs": [],
   "source": []
  }
 ],
 "metadata": {
  "kernelspec": {
   "display_name": "venv",
   "language": "python",
   "name": "python3"
  },
  "language_info": {
   "codemirror_mode": {
    "name": "ipython",
    "version": 3
   },
   "file_extension": ".py",
   "mimetype": "text/x-python",
   "name": "python",
   "nbconvert_exporter": "python",
   "pygments_lexer": "ipython3",
   "version": "3.12.3"
  }
 },
 "nbformat": 4,
 "nbformat_minor": 2
}
