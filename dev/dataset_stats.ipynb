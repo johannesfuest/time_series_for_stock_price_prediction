{
 "cells": [
  {
   "cell_type": "code",
   "execution_count": 3,
   "metadata": {},
   "outputs": [
    {
     "name": "stdout",
     "output_type": "stream",
     "text": [
      "Total rows: 11198354\n"
     ]
    }
   ],
   "source": [
    "import numpy as np\n",
    "import os\n",
    "import pandas as pd\n",
    "\n",
    "#read all csv files in data/cleaned\n",
    "\n",
    "all_files = os.listdir('../data/cleaned')\n",
    "all_files = [f for f in all_files if f.endswith('.csv')]\n",
    "\n",
    "total_rows = 0\n",
    "for file in all_files:\n",
    "    df = pd.read_csv('../data/cleaned/' + file)\n",
    "    df.to_csv('../data/cleaned/' + file, index=False)\n",
    "    total_rows += df.shape[0]\n",
    "print(f'Total rows: {total_rows}')"
   ]
  },
  {
   "cell_type": "code",
   "execution_count": null,
   "metadata": {},
   "outputs": [],
   "source": []
  }
 ],
 "metadata": {
  "kernelspec": {
   "display_name": "venv",
   "language": "python",
   "name": "python3"
  },
  "language_info": {
   "codemirror_mode": {
    "name": "ipython",
    "version": 3
   },
   "file_extension": ".py",
   "mimetype": "text/x-python",
   "name": "python",
   "nbconvert_exporter": "python",
   "pygments_lexer": "ipython3",
   "version": "3.12.3"
  }
 },
 "nbformat": 4,
 "nbformat_minor": 2
}
